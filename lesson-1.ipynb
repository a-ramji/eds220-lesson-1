{
 "cells": [
  {
   "cell_type": "code",
   "execution_count": 1,
   "id": "431ece70-9bb8-4e79-966d-3662ab43b6c3",
   "metadata": {
    "tags": []
   },
   "outputs": [],
   "source": [
    "# lecture: https://carmengg.github.io/eds-220-book/lectures/lesson-1-python-review.html\n"
   ]
  },
  {
   "cell_type": "markdown",
   "id": "828741f3-42ae-4572-af21-30ab6d9c308a",
   "metadata": {},
   "source": [
    "# Numpy\n",
    "\n",
    "- one of the core packages for numerical computing in Python\n",
    "- many packages are built on top of numpy\n",
    "- `numpy` has been optimized for processing: faster due to memory access"
   ]
  },
  {
   "cell_type": "code",
   "execution_count": 2,
   "id": "f15e9504-d0c9-49d2-9327-c56a5265f784",
   "metadata": {
    "tags": []
   },
   "outputs": [],
   "source": [
    "# import numpy with standard abbreviation\n",
    "import numpy as np\n",
    "\n"
   ]
  },
  {
   "cell_type": "markdown",
   "id": "b1b8b403-507f-45e4-969c-82c2a1057342",
   "metadata": {},
   "source": [
    "# Variables\n",
    "\n",
    "we can think about variables as a name we assign to a particular object in Python. For example:"
   ]
  },
  {
   "cell_type": "code",
   "execution_count": 3,
   "id": "1f09bc83-c994-458f-9b1c-2324681e2223",
   "metadata": {
    "tags": []
   },
   "outputs": [],
   "source": [
    "# assign a small array to a variable s\n",
    "\n",
    "a = np.array([ [1,1,2], [3,5,8] ])"
   ]
  },
  {
   "cell_type": "markdown",
   "id": "95674bcc-0767-4400-b178-db9da3933849",
   "metadata": {},
   "source": [
    "When we run the cell, we store the variable and its value. We can see the variable's value in two ways:"
   ]
  },
  {
   "cell_type": "code",
   "execution_count": 6,
   "id": "d0d17335-30c9-4840-9e0b-8953018338b2",
   "metadata": {
    "tags": []
   },
   "outputs": [
    {
     "data": {
      "text/plain": [
       "array([[1, 1, 2],\n",
       "       [3, 5, 8]])"
      ]
     },
     "execution_count": 6,
     "metadata": {},
     "output_type": "execute_result"
    }
   ],
   "source": [
    "# show the value\n",
    "a"
   ]
  },
  {
   "cell_type": "code",
   "execution_count": 7,
   "id": "1aa2ab56-368d-49a5-84bd-e2966600a6ce",
   "metadata": {
    "tags": []
   },
   "outputs": [
    {
     "name": "stdout",
     "output_type": "stream",
     "text": [
      "[[1 1 2]\n",
      " [3 5 8]]\n"
     ]
    }
   ],
   "source": [
    "# print the value\n",
    "print(a)"
   ]
  },
  {
   "cell_type": "markdown",
   "id": "da40109f-bd3a-429c-a419-4f38d00bcec1",
   "metadata": {},
   "source": [
    "## Naming variables\n",
    "in this class, we'll use `snake_case` for naming variables."
   ]
  },
  {
   "cell_type": "markdown",
   "id": "3e35cefc-36ec-40b9-98e2-585b578e8700",
   "metadata": {},
   "source": [
    "# Variables and objects\n",
    "\n",
    "**object**: often encountered in Python documentation and tutorials.\n",
    "\n",
    "object is a bundle of properties and actions about something specific\n",
    "\n",
    "Example:\n",
    "\n",
    "- object: data frame\n",
    "- properties: number of rows, names of columns, date created\n",
    "- actions: selecting a row, addign a new column, etc. ...\n",
    "\n",
    "\n",
    "A variable is a name we give a specific object, and the same object can be referenced by different variables.\n",
    "\n",
    "\n",
    "Example:\n",
    "\n",
    "- The Sun (actual star at the center of the solar system) = object\n",
    "- sol (Spanish word for Sun) = variable\n",
    "- soleil (French for Sun) = another variable\n",
    "\n",
    "\n",
    "In Practice: we will use object and variable interchangeably \n",
    "\n"
   ]
  },
  {
   "cell_type": "markdown",
   "id": "ab4e1fca-bf7b-4605-8e93-ce77b5145cda",
   "metadata": {},
   "source": [
    "# Types\n",
    "\n",
    "\n",
    "Each object in Python has a type.\n",
    "\n",
    "type = what kind of object it is\n",
    "\n",
    "We can also call the type of the object, the **class** of the object. \n",
    "\n",
    "We can see the type/class of an object by using the `type` function."
   ]
  },
  {
   "cell_type": "code",
   "execution_count": 8,
   "id": "707d2558-ff49-4699-b343-74b4dea4ad42",
   "metadata": {
    "tags": []
   },
   "outputs": [
    {
     "name": "stdout",
     "output_type": "stream",
     "text": [
      "[[1 1 2]\n",
      " [3 5 8]]\n"
     ]
    }
   ],
   "source": [
    "print(a)"
   ]
  },
  {
   "cell_type": "code",
   "execution_count": 9,
   "id": "c56d9174-e35e-4659-a054-24596bbdbeb0",
   "metadata": {
    "tags": []
   },
   "outputs": [
    {
     "data": {
      "text/plain": [
       "numpy.ndarray"
      ]
     },
     "execution_count": 9,
     "metadata": {},
     "output_type": "execute_result"
    }
   ],
   "source": [
    "type(a)"
   ]
  },
  {
   "cell_type": "markdown",
   "id": "4ff40d81-4f2f-4758-a875-5c9519230f96",
   "metadata": {},
   "source": [
    "The `numpy.ndarray` is the core object/data type in the NumPy pakcage. We can check the type of an entry in the array by indexing:"
   ]
  },
  {
   "cell_type": "code",
   "execution_count": 10,
   "id": "0fc224b2-1708-49a3-b559-07252b4973ce",
   "metadata": {
    "tags": []
   },
   "outputs": [
    {
     "name": "stdout",
     "output_type": "stream",
     "text": [
      "1\n"
     ]
    },
    {
     "data": {
      "text/plain": [
       "numpy.int64"
      ]
     },
     "execution_count": 10,
     "metadata": {},
     "output_type": "execute_result"
    }
   ],
   "source": [
    "print(a[0,0])\n",
    "type(a[0,0])"
   ]
  },
  {
   "cell_type": "markdown",
   "id": "0ea96d8b-1532-4f0f-929b-844c3522ad46",
   "metadata": {},
   "source": [
    "Notice the type of the value 1 in the array is `numpy.int64` and not just the core Python integer type `int`. The NumPy type `numpy.int64` is telling us 1 is an integer stored as a 64-bit number. NumPy has its own data types to deal with numbers depending on memory storage and floating point precision: https://numpy.org/doc/stable/reference/arrays.scalars.html#sized-aliases\n",
    "\n",
    "Since “everything in Python is an object” and every object has a class, we will interact with SO MANY classes in this course. Often, knowing the type of an object is the first step to finding information to code what you want!"
   ]
  },
  {
   "cell_type": "code",
   "execution_count": 11,
   "id": "0a246fce-982a-47d5-ae04-0e3480795d5e",
   "metadata": {
    "tags": []
   },
   "outputs": [
    {
     "name": "stdout",
     "output_type": "stream",
     "text": [
      "5\n"
     ]
    }
   ],
   "source": [
    "# acccess the value 5 in array a:\n",
    "\n",
    "print(a[1,1])"
   ]
  },
  {
   "cell_type": "code",
   "execution_count": 12,
   "id": "50d9a33f-8b99-4f35-bfe7-20852f2a0446",
   "metadata": {
    "tags": []
   },
   "outputs": [
    {
     "data": {
      "text/plain": [
       "5"
      ]
     },
     "execution_count": 12,
     "metadata": {},
     "output_type": "execute_result"
    }
   ],
   "source": [
    "a[1,1]"
   ]
  },
  {
   "cell_type": "code",
   "execution_count": 13,
   "id": "4750cc9d-1e21-460d-acea-40baf5f49a50",
   "metadata": {
    "tags": []
   },
   "outputs": [
    {
     "data": {
      "text/plain": [
       "5"
      ]
     },
     "execution_count": 13,
     "metadata": {},
     "output_type": "execute_result"
    }
   ],
   "source": [
    "a[1][1]"
   ]
  },
  {
   "cell_type": "markdown",
   "id": "c9b1dd89-a678-44ce-aa11-b3375e08cd67",
   "metadata": {},
   "source": [
    "# Functions\n",
    "\n",
    "\n",
    "`print` was our first example of a Python function!  :)\n",
    "\n",
    "A function:\n",
    "- take in a set of **arguments**, separated by commas, and\n",
    "- use those arguments to create some **output**.\n",
    "\n",
    "\n",
    "We can use \"argument\" and \"parameter\" interchangeably (in this class, at least)\n",
    "\n",
    "\n",
    "We can ask for information about a function by executing ? followed by the function name:"
   ]
  },
  {
   "cell_type": "code",
   "execution_count": 14,
   "id": "f19d3a32-dd49-4411-84c4-bdd950102572",
   "metadata": {
    "tags": []
   },
   "outputs": [
    {
     "data": {
      "text/plain": [
       "\u001b[0;31mDocstring:\u001b[0m\n",
       "print(value, ..., sep=' ', end='\\n', file=sys.stdout, flush=False)\n",
       "\n",
       "Prints the values to a stream, or to sys.stdout by default.\n",
       "Optional keyword arguments:\n",
       "file:  a file-like object (stream); defaults to the current sys.stdout.\n",
       "sep:   string inserted between values, default a space.\n",
       "end:   string appended after the last value, default a newline.\n",
       "flush: whether to forcibly flush the stream.\n",
       "\u001b[0;31mType:\u001b[0m      builtin_function_or_method\n"
      ]
     },
     "metadata": {},
     "output_type": "display_data"
    }
   ],
   "source": [
    "?print"
   ]
  },
  {
   "cell_type": "markdown",
   "id": "ecbc3882-0a14-49f4-92b3-5f1bf583cf0a",
   "metadata": {
    "tags": []
   },
   "source": [
    "- The first line is always the function showing all of its arguments in parenthesis. \n",
    "- Then there is a short description of what the function does. And finally a list of the arguments and a brief explanation about each of them."
   ]
  },
  {
   "cell_type": "markdown",
   "id": "306760ef-06fe-4f13-949b-e7475c455694",
   "metadata": {},
   "source": [
    "You can see there are different types of arguments inside the parenthesis. Roughly speaking, a function has two types of arguments:\n",
    "\n",
    "- **non-optional arguments:** arguments you need to specify for the function to do something, and\n",
    "\n",
    "- **optional arguments:** arguments that are pre-filled with a default value by the function, but you can override them. Optional arguments appear inside the parenthesis () in the form `optional_argument = default_value`."
   ]
  },
  {
   "cell_type": "markdown",
   "id": "7e3f0ec8-4daa-4713-a573-3f851b172632",
   "metadata": {},
   "source": [
    "Example:\n",
    "\n",
    "`end` is an argument in `print` with the default value a new line. We can change this argument so that finishes the line with `^_^` instead:"
   ]
  },
  {
   "cell_type": "code",
   "execution_count": 16,
   "id": "2d3d43d9-a704-4f5c-b7c9-a768e177f414",
   "metadata": {
    "tags": []
   },
   "outputs": [
    {
     "name": "stdout",
     "output_type": "stream",
     "text": [
      "I am changing the default end argument of the print function ^_^"
     ]
    }
   ],
   "source": [
    "# notice we had always used print withough specifying any value for the `end` argument\n",
    "print('I am changing the default end argument of the print function', end=' ^_^')"
   ]
  },
  {
   "cell_type": "markdown",
   "id": "979b3e52-8777-4ff8-9a35-5c24d24fdba6",
   "metadata": {},
   "source": [
    "### Attributes & Methods"
   ]
  },
  {
   "cell_type": "markdown",
   "id": "e6aa5c21-4d1e-419c-90e0-240a3c0a9e7e",
   "metadata": {},
   "source": [
    "An object in Python has attributes and methods. \n",
    "\n",
    "- **attribute**: a property of the object, some piece of information about it. \n",
    "- **method**: a procedure associated with an object, an action where the main ingredient is the object."
   ]
  },
  {
   "cell_type": "markdown",
   "id": "01ad55af-d2b3-4c65-ad86-e32994186562",
   "metadata": {},
   "source": [
    "Cat example:\n",
    "\n",
    "attributes:\n",
    "- name\n",
    "- color\n",
    "- age\n",
    "- weight\n",
    "\n",
    "methods:\n",
    "- meow()\n",
    "- nap()\n",
    "- chase_laser()\n",
    "- move_tail()\n",
    "\n",
    "Fish:\n",
    "Attributes:\n",
    "- scale_color\n",
    "- weight\n",
    "- age\n",
    "- sex\n",
    "- species\n",
    "\n",
    "Methods:\n",
    "- swim()\n",
    "- eat()\n",
    "- poop()\n",
    "- jump_out_of_water()\n"
   ]
  },
  {
   "cell_type": "markdown",
   "id": "6f7ddb84-fa86-4d2a-b367-8d318ddaf647",
   "metadata": {},
   "source": [
    "More formally, a method is a function that acts on the object it is part of.\n",
    "\n",
    "We can access a variable’s attributes and methods by adding a period . at the end of the variable’s name. So we would write \n",
    "\n",
    "`variable.variable_method()` or\n",
    "\n",
    "`variable.variable_attribute`.\n",
    "\n",
    "\n",
    "Examples:\n",
    "\n",
    "Methods and attributes of NumPy arrays:"
   ]
  },
  {
   "cell_type": "code",
   "execution_count": 1,
   "id": "94688542-ae57-447e-97d7-9b533216bcd0",
   "metadata": {
    "tags": []
   },
   "outputs": [],
   "source": [
    "import numpy as np"
   ]
  },
  {
   "cell_type": "code",
   "execution_count": 2,
   "id": "8a56c07b-87ca-4aca-8e93-5208cf9074b6",
   "metadata": {
    "tags": []
   },
   "outputs": [],
   "source": [
    "# define a 3x3 array\n",
    "\n",
    "var = np.array( [ [1,2,3],[4,5,6],[7,8,9] ] )"
   ]
  },
  {
   "cell_type": "code",
   "execution_count": 3,
   "id": "49d96178-6499-49f4-975a-0cb3c659e70c",
   "metadata": {
    "tags": []
   },
   "outputs": [
    {
     "data": {
      "text/plain": [
       "array([[1, 2, 3],\n",
       "       [4, 5, 6],\n",
       "       [7, 8, 9]])"
      ]
     },
     "execution_count": 3,
     "metadata": {},
     "output_type": "execute_result"
    }
   ],
   "source": [
    "var"
   ]
  },
  {
   "cell_type": "code",
   "execution_count": 4,
   "id": "037c433e-3b80-4213-ad0d-e04f45dbd676",
   "metadata": {
    "tags": []
   },
   "outputs": [
    {
     "data": {
      "text/plain": [
       "(3, 3)"
      ]
     },
     "execution_count": 4,
     "metadata": {},
     "output_type": "execute_result"
    }
   ],
   "source": [
    "# shape: attribute telling us the number of elements\n",
    "# in each dimension of the array\n",
    "\n",
    "var.shape"
   ]
  },
  {
   "cell_type": "code",
   "execution_count": 5,
   "id": "c97c9b54-53e1-41d7-a69f-656da68a9b74",
   "metadata": {
    "tags": []
   },
   "outputs": [
    {
     "data": {
      "text/plain": [
       "tuple"
      ]
     },
     "execution_count": 5,
     "metadata": {},
     "output_type": "execute_result"
    }
   ],
   "source": [
    "type(var.shape)"
   ]
  },
  {
   "cell_type": "code",
   "execution_count": 8,
   "id": "0def3714-96f0-485b-9bae-556f18259530",
   "metadata": {
    "tags": []
   },
   "outputs": [
    {
     "name": "stdout",
     "output_type": "stream",
     "text": [
      "2\n"
     ]
    }
   ],
   "source": [
    "# ndim is an attribute holding the number of array dimensions\n",
    "print(var.ndim)"
   ]
  },
  {
   "cell_type": "code",
   "execution_count": 9,
   "id": "d1a0cca9-be52-4430-b1ea-cd79b0a176d7",
   "metadata": {
    "tags": []
   },
   "outputs": [
    {
     "data": {
      "text/plain": [
       "int"
      ]
     },
     "execution_count": 9,
     "metadata": {},
     "output_type": "execute_result"
    }
   ],
   "source": [
    "type(var.ndim)"
   ]
  },
  {
   "cell_type": "markdown",
   "id": "4f4d4288-63c6-4411-988e-8132ce5a4a1f",
   "metadata": {},
   "source": [
    "- Notice attributes can have many different data types.\n",
    "\n",
    "\n",
    "Examples of methods:"
   ]
  },
  {
   "cell_type": "code",
   "execution_count": 10,
   "id": "02f9fed9-8ac9-4baf-90ec-4c5571136eb5",
   "metadata": {
    "tags": []
   },
   "outputs": [
    {
     "data": {
      "text/plain": [
       "1"
      ]
     },
     "execution_count": 10,
     "metadata": {},
     "output_type": "execute_result"
    }
   ],
   "source": [
    "# min method for an array\n",
    "# return the minimum value in the array\n",
    "\n",
    "var.min()"
   ]
  },
  {
   "cell_type": "code",
   "execution_count": 11,
   "id": "a06f8b65-c16c-49aa-a66a-51bfc92b9a5a",
   "metadata": {
    "tags": []
   },
   "outputs": [
    {
     "data": {
      "text/plain": [
       "[[1, 2, 3], [4, 5, 6], [7, 8, 9]]"
      ]
     },
     "execution_count": 11,
     "metadata": {},
     "output_type": "execute_result"
    }
   ],
   "source": [
    "var.tolist()"
   ]
  },
  {
   "cell_type": "code",
   "execution_count": 12,
   "id": "4e7079da-07bc-441c-b6a2-27c05b991041",
   "metadata": {
    "tags": []
   },
   "outputs": [
    {
     "data": {
      "text/plain": [
       "numpy.int64"
      ]
     },
     "execution_count": 12,
     "metadata": {},
     "output_type": "execute_result"
    }
   ],
   "source": [
    "type(var.min())"
   ]
  },
  {
   "cell_type": "code",
   "execution_count": 13,
   "id": "dc3c6b40-fbb4-4d79-bbf6-53800c4782fb",
   "metadata": {
    "tags": []
   },
   "outputs": [
    {
     "data": {
      "text/plain": [
       "builtin_function_or_method"
      ]
     },
     "execution_count": 13,
     "metadata": {},
     "output_type": "execute_result"
    }
   ],
   "source": [
    "type(var.min)"
   ]
  },
  {
   "cell_type": "code",
   "execution_count": 14,
   "id": "b31d3be4-699b-4280-b082-d6a11e72ab53",
   "metadata": {
    "tags": []
   },
   "outputs": [
    {
     "data": {
      "text/plain": [
       "array([1, 2, 3])"
      ]
     },
     "execution_count": 14,
     "metadata": {},
     "output_type": "execute_result"
    }
   ],
   "source": [
    "var.min(axis=0)"
   ]
  },
  {
   "cell_type": "markdown",
   "id": "58c589b7-a9bb-4283-b6b0-5e68044858fd",
   "metadata": {},
   "source": [
    "https://numpy.org/doc/stable/reference/generated/numpy.ndarray.html"
   ]
  },
  {
   "cell_type": "markdown",
   "id": "c865243f-09e1-439e-aef1-27c5c136dbf8",
   "metadata": {},
   "source": [
    "## R & Python\n",
    "\n",
    "R doesn't use methods within an object. Functions are extrinsic to the objects they are acting on. \n",
    "\n",
    "Ex:\n",
    "In R, for example, there would be two separate items: the variable `var` and a separate function `min` that gets `var` as a parameter:\n",
    "```\n",
    "# this is R code\n",
    "\n",
    "var <- array(c(1,4,7,2,5,8,3,6,9), dim =c(3,3))\n",
    "min(var)\n",
    "```\n",
    "\n",
    "Using the pipe operator %>% in R’s tidyverse is closer to the dot `.` in Python:\n",
    "\n",
    "```\n",
    "# this is R code\n",
    "\n",
    "var <- array(c(1,4,7,2,5,8,3,6,9), dim =c(3,3))\n",
    "var %>% min()\n",
    "\n",
    "```\n",
    "What happens here is that the pipe `%>%` is passing `var` to the `min()` function as its first argument. This is essentially what happens in Python when a function is a method of a class (what the `.` is in Python):\n",
    "\n",
    "```\n",
    "# this is Python code\n",
    "\n",
    "var = np.array([[1,2,3],[4,5,6],[7,8,9]])\n",
    "var.min()\n",
    "```\n",
    "When working in Python, remember that *methods are functions that are part of an object* and a method uses the object it is part of to produce some information."
   ]
  }
 ],
 "metadata": {
  "kernelspec": {
   "display_name": "Anaconda 3 (Base)",
   "language": "python",
   "name": "base"
  },
  "language_info": {
   "codemirror_mode": {
    "name": "ipython",
    "version": 3
   },
   "file_extension": ".py",
   "mimetype": "text/x-python",
   "name": "python",
   "nbconvert_exporter": "python",
   "pygments_lexer": "ipython3",
   "version": "3.9.13"
  }
 },
 "nbformat": 4,
 "nbformat_minor": 5
}
