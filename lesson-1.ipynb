{
 "cells": [
  {
   "cell_type": "code",
   "execution_count": 1,
   "id": "431ece70-9bb8-4e79-966d-3662ab43b6c3",
   "metadata": {
    "tags": []
   },
   "outputs": [],
   "source": [
    "# lecture: https://carmengg.github.io/eds-220-book/lectures/lesson-1-python-review.html\n"
   ]
  },
  {
   "cell_type": "markdown",
   "id": "828741f3-42ae-4572-af21-30ab6d9c308a",
   "metadata": {},
   "source": [
    "# Numpy\n",
    "\n",
    "- one of the core packages for numerical computing in Python\n",
    "- many packages are built on top of numpy\n",
    "- `numpy` has been optimized for processing: faster due to memory access"
   ]
  },
  {
   "cell_type": "code",
   "execution_count": 2,
   "id": "f15e9504-d0c9-49d2-9327-c56a5265f784",
   "metadata": {
    "tags": []
   },
   "outputs": [],
   "source": [
    "# import numpy with standard abbreviation\n",
    "import numpy as np\n",
    "\n"
   ]
  },
  {
   "cell_type": "markdown",
   "id": "b1b8b403-507f-45e4-969c-82c2a1057342",
   "metadata": {},
   "source": [
    "# Variables\n",
    "\n",
    "we can think about variables as a name we assign to a particular object in Python. For example:"
   ]
  },
  {
   "cell_type": "code",
   "execution_count": 3,
   "id": "1f09bc83-c994-458f-9b1c-2324681e2223",
   "metadata": {
    "tags": []
   },
   "outputs": [],
   "source": [
    "# assign a small array to a variable s\n",
    "\n",
    "a = np.array([ [1,1,2], [3,5,8] ])"
   ]
  },
  {
   "cell_type": "markdown",
   "id": "95674bcc-0767-4400-b178-db9da3933849",
   "metadata": {},
   "source": [
    "When we run the cell, we store the variable and its value. We can see the variable's value in two ways:"
   ]
  },
  {
   "cell_type": "code",
   "execution_count": 6,
   "id": "d0d17335-30c9-4840-9e0b-8953018338b2",
   "metadata": {
    "tags": []
   },
   "outputs": [
    {
     "data": {
      "text/plain": [
       "array([[1, 1, 2],\n",
       "       [3, 5, 8]])"
      ]
     },
     "execution_count": 6,
     "metadata": {},
     "output_type": "execute_result"
    }
   ],
   "source": [
    "# show the value\n",
    "a"
   ]
  },
  {
   "cell_type": "code",
   "execution_count": 7,
   "id": "1aa2ab56-368d-49a5-84bd-e2966600a6ce",
   "metadata": {
    "tags": []
   },
   "outputs": [
    {
     "name": "stdout",
     "output_type": "stream",
     "text": [
      "[[1 1 2]\n",
      " [3 5 8]]\n"
     ]
    }
   ],
   "source": [
    "# print the value\n",
    "print(a)"
   ]
  },
  {
   "cell_type": "markdown",
   "id": "da40109f-bd3a-429c-a419-4f38d00bcec1",
   "metadata": {},
   "source": [
    "## Naming variables\n",
    "in this class, we'll use `snake_case` for naming variables."
   ]
  },
  {
   "cell_type": "markdown",
   "id": "3e35cefc-36ec-40b9-98e2-585b578e8700",
   "metadata": {},
   "source": [
    "# Variables and objects\n",
    "\n",
    "**object**: often encountered in Python documentation and tutorials.\n",
    "\n",
    "object is a bundle of properties and actions about something specific\n",
    "\n",
    "Example:\n",
    "\n",
    "- object: data frame\n",
    "- properties: number of rows, names of columns, date created\n",
    "- actions: selecting a row, addign a new column, etc. ...\n",
    "\n",
    "\n",
    "A variable is a name we give a specific object, and the same object can be referenced by different variables.\n",
    "\n",
    "\n",
    "Example:\n",
    "\n",
    "- The Sun (actual star at the center of the solar system) = object\n",
    "- sol (Spanish word for Sun) = variable\n",
    "- soleil (French for Sun) = another variable\n",
    "\n",
    "\n",
    "In Practice: we will use object and variable interchangeably \n",
    "\n"
   ]
  },
  {
   "cell_type": "markdown",
   "id": "ab4e1fca-bf7b-4605-8e93-ce77b5145cda",
   "metadata": {},
   "source": [
    "# Types\n",
    "\n",
    "\n",
    "Each object in Python has a type.\n",
    "\n",
    "type = what kind of object it is\n",
    "\n",
    "We can also call the type of the object, the **class** of the object. \n",
    "\n",
    "We can see the type/class of an object by using the `type` function."
   ]
  },
  {
   "cell_type": "code",
   "execution_count": 8,
   "id": "707d2558-ff49-4699-b343-74b4dea4ad42",
   "metadata": {
    "tags": []
   },
   "outputs": [
    {
     "name": "stdout",
     "output_type": "stream",
     "text": [
      "[[1 1 2]\n",
      " [3 5 8]]\n"
     ]
    }
   ],
   "source": [
    "print(a)"
   ]
  },
  {
   "cell_type": "code",
   "execution_count": 9,
   "id": "c56d9174-e35e-4659-a054-24596bbdbeb0",
   "metadata": {
    "tags": []
   },
   "outputs": [
    {
     "data": {
      "text/plain": [
       "numpy.ndarray"
      ]
     },
     "execution_count": 9,
     "metadata": {},
     "output_type": "execute_result"
    }
   ],
   "source": [
    "type(a)"
   ]
  },
  {
   "cell_type": "markdown",
   "id": "4ff40d81-4f2f-4758-a875-5c9519230f96",
   "metadata": {},
   "source": [
    "The `numpy.ndarray` is the core object/data type in the NumPy pakcage. We can check the type of an entry in the array by indexing:"
   ]
  },
  {
   "cell_type": "code",
   "execution_count": 10,
   "id": "0fc224b2-1708-49a3-b559-07252b4973ce",
   "metadata": {
    "tags": []
   },
   "outputs": [
    {
     "name": "stdout",
     "output_type": "stream",
     "text": [
      "1\n"
     ]
    },
    {
     "data": {
      "text/plain": [
       "numpy.int64"
      ]
     },
     "execution_count": 10,
     "metadata": {},
     "output_type": "execute_result"
    }
   ],
   "source": [
    "print(a[0,0])\n",
    "type(a[0,0])"
   ]
  },
  {
   "cell_type": "markdown",
   "id": "0ea96d8b-1532-4f0f-929b-844c3522ad46",
   "metadata": {},
   "source": [
    "Notice the type of the value 1 in the array is `numpy.int64` and not just the core Python integer type `int`. The NumPy type `numpy.int64` is telling us 1 is an integer stored as a 64-bit number. NumPy has its own data types to deal with numbers depending on memory storage and floating point precision: https://numpy.org/doc/stable/reference/arrays.scalars.html#sized-aliases\n",
    "\n",
    "Since “everything in Python is an object” and every object has a class, we will interact with SO MANY classes in this course. Often, knowing the type of an object is the first step to finding information to code what you want!"
   ]
  },
  {
   "cell_type": "code",
   "execution_count": 11,
   "id": "0a246fce-982a-47d5-ae04-0e3480795d5e",
   "metadata": {
    "tags": []
   },
   "outputs": [
    {
     "name": "stdout",
     "output_type": "stream",
     "text": [
      "5\n"
     ]
    }
   ],
   "source": [
    "# acccess the value 5 in array a:\n",
    "\n",
    "print(a[1,1])"
   ]
  },
  {
   "cell_type": "code",
   "execution_count": 12,
   "id": "50d9a33f-8b99-4f35-bfe7-20852f2a0446",
   "metadata": {
    "tags": []
   },
   "outputs": [
    {
     "data": {
      "text/plain": [
       "5"
      ]
     },
     "execution_count": 12,
     "metadata": {},
     "output_type": "execute_result"
    }
   ],
   "source": [
    "a[1,1]"
   ]
  },
  {
   "cell_type": "code",
   "execution_count": 13,
   "id": "4750cc9d-1e21-460d-acea-40baf5f49a50",
   "metadata": {
    "tags": []
   },
   "outputs": [
    {
     "data": {
      "text/plain": [
       "5"
      ]
     },
     "execution_count": 13,
     "metadata": {},
     "output_type": "execute_result"
    }
   ],
   "source": [
    "a[1][1]"
   ]
  },
  {
   "cell_type": "markdown",
   "id": "c9b1dd89-a678-44ce-aa11-b3375e08cd67",
   "metadata": {},
   "source": [
    "# Functions\n",
    "\n",
    "\n",
    "`print` was our first example of a Python function!  :)\n",
    "\n",
    "A function:\n",
    "- take in a set of **arguments**, separated by commas, and\n",
    "- use those arguments to create some **output**.\n",
    "\n",
    "\n",
    "We can use \"argument\" and \"parameter\" interchangeably (in this class, at least)\n",
    "\n",
    "\n",
    "We can ask for information about a function by executing ? followed by the function name:"
   ]
  },
  {
   "cell_type": "code",
   "execution_count": 14,
   "id": "f19d3a32-dd49-4411-84c4-bdd950102572",
   "metadata": {
    "tags": []
   },
   "outputs": [
    {
     "data": {
      "text/plain": [
       "\u001b[0;31mDocstring:\u001b[0m\n",
       "print(value, ..., sep=' ', end='\\n', file=sys.stdout, flush=False)\n",
       "\n",
       "Prints the values to a stream, or to sys.stdout by default.\n",
       "Optional keyword arguments:\n",
       "file:  a file-like object (stream); defaults to the current sys.stdout.\n",
       "sep:   string inserted between values, default a space.\n",
       "end:   string appended after the last value, default a newline.\n",
       "flush: whether to forcibly flush the stream.\n",
       "\u001b[0;31mType:\u001b[0m      builtin_function_or_method\n"
      ]
     },
     "metadata": {},
     "output_type": "display_data"
    }
   ],
   "source": [
    "?print"
   ]
  },
  {
   "cell_type": "markdown",
   "id": "ecbc3882-0a14-49f4-92b3-5f1bf583cf0a",
   "metadata": {
    "tags": []
   },
   "source": [
    "- The first line is always the function showing all of its arguments in parenthesis. \n",
    "- Then there is a short description of what the function does. And finally a list of the arguments and a brief explanation about each of them."
   ]
  },
  {
   "cell_type": "markdown",
   "id": "306760ef-06fe-4f13-949b-e7475c455694",
   "metadata": {},
   "source": [
    "You can see there are different types of arguments inside the parenthesis. Roughly speaking, a function has two types of arguments:\n",
    "\n",
    "- **non-optional arguments:** arguments you need to specify for the function to do something, and\n",
    "\n",
    "- **optional arguments:** arguments that are pre-filled with a default value by the function, but you can override them. Optional arguments appear inside the parenthesis () in the form `optional_argument = default_value`."
   ]
  },
  {
   "cell_type": "markdown",
   "id": "7e3f0ec8-4daa-4713-a573-3f851b172632",
   "metadata": {},
   "source": [
    "Example:\n",
    "\n",
    "`end` is an argument in `print` with the default value a new line. We can change this argument so that finishes the line with `^_^` instead:"
   ]
  },
  {
   "cell_type": "code",
   "execution_count": 16,
   "id": "2d3d43d9-a704-4f5c-b7c9-a768e177f414",
   "metadata": {
    "tags": []
   },
   "outputs": [
    {
     "name": "stdout",
     "output_type": "stream",
     "text": [
      "I am changing the default end argument of the print function ^_^"
     ]
    }
   ],
   "source": [
    "# notice we had always used print withough specifying any value for the `end` argument\n",
    "print('I am changing the default end argument of the print function', end=' ^_^')"
   ]
  }
 ],
 "metadata": {
  "kernelspec": {
   "display_name": "Anaconda 3 (Base)",
   "language": "python",
   "name": "base"
  },
  "language_info": {
   "codemirror_mode": {
    "name": "ipython",
    "version": 3
   },
   "file_extension": ".py",
   "mimetype": "text/x-python",
   "name": "python",
   "nbconvert_exporter": "python",
   "pygments_lexer": "ipython3",
   "version": "3.9.13"
  }
 },
 "nbformat": 4,
 "nbformat_minor": 5
}
