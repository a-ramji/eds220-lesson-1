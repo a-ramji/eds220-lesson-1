{
 "cells": [
  {
   "cell_type": "markdown",
   "id": "980c762f-93d0-40d6-ad99-afa0d41303d2",
   "metadata": {},
   "source": [
    "# Pandas Fundamentals\n",
    "\n",
    "- `pandas` library --> `pandas.Series` and `pandas.DataFrame`"
   ]
  },
  {
   "cell_type": "markdown",
   "id": "a0f63514-5d7c-476f-b884-9f8a9e5cfa2b",
   "metadata": {},
   "source": [
    "## `pandas`\n",
    "\n",
    "\n",
    "- built on top of NumPy"
   ]
  },
  {
   "cell_type": "code",
   "execution_count": 1,
   "id": "cdba19af-d7e6-4a19-bba2-7686ff922c29",
   "metadata": {
    "tags": []
   },
   "outputs": [],
   "source": [
    "import pandas as pd\n",
    "\n",
    "import numpy as np"
   ]
  },
  {
   "cell_type": "markdown",
   "id": "0726af21-a143-4752-94d9-05e0e4d1a1e9",
   "metadata": {},
   "source": [
    "## Series\n",
    "\n",
    "The first core data structure of pandas is the **series**. A series is a *one-dimensional* array of *indexed* data. A `pandas.Series` having an index is the main difference between a `pandas.Series` and a numpy array. \n",
    "\n",
    "See the difference:"
   ]
  },
  {
   "cell_type": "code",
   "execution_count": 2,
   "id": "e4273bb0-3fe5-4324-a29c-a397409153d8",
   "metadata": {
    "tags": []
   },
   "outputs": [
    {
     "name": "stdout",
     "output_type": "stream",
     "text": [
      "<class 'numpy.ndarray'>\n",
      "[-0.80284373 -0.89941163  0.0806206   0.8043295 ] \n",
      "\n",
      "<class 'pandas.core.series.Series'>\n",
      "0   -0.802844\n",
      "1   -0.899412\n",
      "2    0.080621\n",
      "3    0.804330\n",
      "dtype: float64\n"
     ]
    }
   ],
   "source": [
    "# a numpy array\n",
    "# np.random.randn returns values from the std normal distribution\n",
    "arr = np.random.randn(4) \n",
    "print(type(arr))\n",
    "print(arr, \"\\n\")\n",
    "\n",
    "# a pandas series made from the previous array\n",
    "s = pd.Series(arr)\n",
    "print(type(s))\n",
    "print(s)"
   ]
  }
 ],
 "metadata": {
  "kernelspec": {
   "display_name": "Anaconda 3 (Base)",
   "language": "python",
   "name": "base"
  },
  "language_info": {
   "codemirror_mode": {
    "name": "ipython",
    "version": 3
   },
   "file_extension": ".py",
   "mimetype": "text/x-python",
   "name": "python",
   "nbconvert_exporter": "python",
   "pygments_lexer": "ipython3",
   "version": "3.9.13"
  }
 },
 "nbformat": 4,
 "nbformat_minor": 5
}
