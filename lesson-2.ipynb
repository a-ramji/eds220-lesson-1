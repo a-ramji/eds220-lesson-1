{
 "cells": [
  {
   "cell_type": "markdown",
   "id": "980c762f-93d0-40d6-ad99-afa0d41303d2",
   "metadata": {},
   "source": [
    "# Pandas Fundamentals\n",
    "\n",
    "- `pandas` library --> `pandas.Series` and `pandas.DataFrame`"
   ]
  },
  {
   "cell_type": "markdown",
   "id": "fbe05bb2-3ec0-4122-aff2-f11f21750ca1",
   "metadata": {},
   "source": [
    "### Objectives:\n",
    "- review core `pandas` objects listed above"
   ]
  },
  {
   "cell_type": "markdown",
   "id": "a0f63514-5d7c-476f-b884-9f8a9e5cfa2b",
   "metadata": {},
   "source": [
    "## `pandas`\n",
    "\n",
    "- python package to wrangle and analyze tabular data\n",
    "- built on top of NumPy\n",
    "- core tool for data analysis in Python"
   ]
  },
  {
   "cell_type": "code",
   "execution_count": 4,
   "id": "cdba19af-d7e6-4a19-bba2-7686ff922c29",
   "metadata": {
    "tags": []
   },
   "outputs": [],
   "source": [
    "# import pandas with standard abbreviation\n",
    "import pandas as pd\n",
    "\n",
    "# import numpy too!\n",
    "import numpy as np"
   ]
  },
  {
   "cell_type": "markdown",
   "id": "0726af21-a143-4752-94d9-05e0e4d1a1e9",
   "metadata": {},
   "source": [
    "## Series\n",
    "\n",
    "\"the first object in pandas\" - Carmen\n",
    "\n",
    "\n",
    "- is one of the core data structures in `pandas`\n",
    "- 1-D\n",
    "- will be the columns of the `pandas.DataFrame`\n",
    "\n",
    "Longform from class notebook:\n",
    "\n",
    "The first core data structure of pandas is the **series**. A series is a *one-dimensional* array of *indexed* data. A `pandas.Series` having an index is the main difference between a `pandas.Series` and a numpy array. \n",
    "\n",
    "\n",
    "### Creating a `pandas` series:\n",
    "several ways to go about this :)\n",
    "\n",
    "- for now, we'll create series using:\n",
    "\n",
    "```\n",
    "s = pd.Series(data, index=index)\n",
    "```\n",
    "\n",
    "- `data` = a numpy array (or a list of objects that can be converted to NumPy types)\n",
    "- `index` = a list of indices of same length data"
   ]
  },
  {
   "cell_type": "code",
   "execution_count": 5,
   "id": "66393fca-0a10-4574-a16b-490d2c6341d9",
   "metadata": {
    "tags": []
   },
   "outputs": [
    {
     "data": {
      "text/plain": [
       "array([0, 1, 2])"
      ]
     },
     "execution_count": 5,
     "metadata": {},
     "output_type": "execute_result"
    }
   ],
   "source": [
    "# Ex: a pandas series from a NumPy array\n",
    "\n",
    "# np.arange() function constructs an array of consecutive integers\n",
    "\n",
    "np.arange(3)"
   ]
  },
  {
   "cell_type": "code",
   "execution_count": 6,
   "id": "b898cc00-7b9b-424f-ab02-48c463c200d5",
   "metadata": {
    "tags": []
   },
   "outputs": [
    {
     "data": {
      "text/plain": [
       "a    0\n",
       "b    1\n",
       "c    2\n",
       "dtype: int64"
      ]
     },
     "execution_count": 6,
     "metadata": {},
     "output_type": "execute_result"
    }
   ],
   "source": [
    "# we can use this to create a pandas series\n",
    "\n",
    "pd.Series(data=np.arange(3), index=['a', 'b', 'c'] )"
   ]
  },
  {
   "cell_type": "markdown",
   "id": "d6f59ec7-f90c-4312-a162-a316b7efd201",
   "metadata": {},
   "source": [
    "Q: What kind of parameter is `index`?\n",
    "A: The index parameter is optional. \n",
    "\n",
    "If we don’t include it, the default is to make the index equal to [0,...,len(data)-1]. \n",
    "\n",
    "For example:"
   ]
  },
  {
   "cell_type": "code",
   "execution_count": 8,
   "id": "9f307339-a842-4ae1-95a5-9bd348c2ac57",
   "metadata": {
    "tags": []
   },
   "outputs": [
    {
     "data": {
      "text/plain": [
       "0    EDS 220\n",
       "1    EDS 222\n",
       "2    EDS 223\n",
       "3    EDS 242\n",
       "dtype: object"
      ]
     },
     "execution_count": 8,
     "metadata": {},
     "output_type": "execute_result"
    }
   ],
   "source": [
    "# a Series from a list of strings with default index\n",
    "pd.Series(data=['EDS 220', 'EDS 222', 'EDS 223', 'EDS 242'])"
   ]
  },
  {
   "cell_type": "markdown",
   "id": "4091cfed-2a1c-4800-aee8-cac1f9ec7182",
   "metadata": {},
   "source": [
    "### Simple operations\n",
    "\n",
    "Arithmetic operations work on series and also most NumPy functions. "
   ]
  },
  {
   "cell_type": "code",
   "execution_count": 18,
   "id": "91d6ea79-e4fa-4632-8d46-1e2ea97ae0a2",
   "metadata": {
    "tags": []
   },
   "outputs": [
    {
     "name": "stdout",
     "output_type": "stream",
     "text": [
      "Andrea      98\n",
      "Beth        73\n",
      "Carolina    65\n",
      "dtype: int64 \n",
      "\n",
      "Andrea      9.8\n",
      "Beth        7.3\n",
      "Carolina    6.5\n",
      "dtype: float64 \n",
      "\n"
     ]
    }
   ],
   "source": [
    "# define a series (example using grades for students)\n",
    "s = pd.Series( [98,73,65], index=['Andrea', 'Beth', 'Carolina'] )\n",
    "\n",
    "print(s , '\\n')\n",
    "\n",
    "# divide each element in the series by 10\n",
    "print(s / 10, '\\n')\n"
   ]
  },
  {
   "cell_type": "code",
   "execution_count": 19,
   "id": "4f9b11bb-e266-47d4-a39b-5d3384357497",
   "metadata": {
    "tags": []
   },
   "outputs": [
    {
     "name": "stdout",
     "output_type": "stream",
     "text": [
      "Andrea      3.637971e+42\n",
      "Beth        5.052394e+31\n",
      "Carolina    1.694889e+28\n",
      "dtype: float64 \n",
      "\n",
      "Andrea      98\n",
      "Beth        73\n",
      "Carolina    65\n",
      "dtype: int64\n"
     ]
    }
   ],
   "source": [
    "# take the exponential of each element in series\n",
    "print(np.exp(s), '\\n')\n",
    "\n",
    "# notice this doesn't change the values of our series\n",
    "print(s)"
   ]
  },
  {
   "cell_type": "markdown",
   "id": "aadee335-a747-406e-888f-bd3ddfa761c7",
   "metadata": {},
   "source": [
    "Example: create a new series with `True`/`False` values indicating whether the elements in the series satisfy a condition or not."
   ]
  },
  {
   "cell_type": "code",
   "execution_count": 20,
   "id": "b4b4c7df-d65d-4f00-b296-332bc8edb165",
   "metadata": {
    "tags": []
   },
   "outputs": [
    {
     "data": {
      "text/plain": [
       "Andrea       True\n",
       "Beth         True\n",
       "Carolina    False\n",
       "dtype: bool"
      ]
     },
     "execution_count": 20,
     "metadata": {},
     "output_type": "execute_result"
    }
   ],
   "source": [
    "s>70"
   ]
  },
  {
   "cell_type": "markdown",
   "id": "9f0804fa-d51c-474f-9784-d06991dd5797",
   "metadata": {},
   "source": [
    "This is simple -- but important!! Using conditions on Series is key to select data from data frames."
   ]
  },
  {
   "cell_type": "markdown",
   "id": "ea9259dc-322c-49f2-b1ab-d0bd61608ea8",
   "metadata": {},
   "source": [
    "### Attributes & Methods\n",
    "\n",
    "`pandas.Series` have *many* attributes and methods, you can see a full list in the pandas documentation.\n",
    "https://pandas.pydata.org/docs/reference/api/pandas.Series.html . \n",
    "\n",
    "\n",
    "\n",
    "Two examples about identifying missing values:\n",
    "- `pandas` represents a missing or NA value with `NaN`, which stands for not a number.\n",
    "- `NaN` is a type of float in numpy\n"
   ]
  },
  {
   "cell_type": "code",
   "execution_count": 21,
   "id": "f725734f-fee1-41b9-81e0-f612f73fe60d",
   "metadata": {
    "tags": []
   },
   "outputs": [
    {
     "data": {
      "text/plain": [
       "nan"
      ]
     },
     "execution_count": 21,
     "metadata": {},
     "output_type": "execute_result"
    }
   ],
   "source": [
    "np.NaN"
   ]
  },
  {
   "cell_type": "code",
   "execution_count": 22,
   "id": "4a7fe8f9-2d18-42d9-ab1c-5707c0620381",
   "metadata": {
    "tags": []
   },
   "outputs": [
    {
     "data": {
      "text/plain": [
       "float"
      ]
     },
     "execution_count": 22,
     "metadata": {},
     "output_type": "execute_result"
    }
   ],
   "source": [
    "type(np.NaN)"
   ]
  },
  {
   "cell_type": "markdown",
   "id": "d4ae93fc-c64b-476d-a2dd-0813811b8b23",
   "metadata": {},
   "source": [
    "Let’s construct a small series with some NA values:\n"
   ]
  },
  {
   "cell_type": "code",
   "execution_count": 23,
   "id": "461058ec-dda8-4326-8b9b-4ce91bcceb66",
   "metadata": {
    "tags": []
   },
   "outputs": [
    {
     "data": {
      "text/plain": [
       "0    1.0\n",
       "1    2.0\n",
       "2    NaN\n",
       "3    4.0\n",
       "4    NaN\n",
       "dtype: float64"
      ]
     },
     "execution_count": 23,
     "metadata": {},
     "output_type": "execute_result"
    }
   ],
   "source": [
    "s = pd.Series( [1, 2, np.NaN, 4, np.NaN])\n",
    "s"
   ]
  },
  {
   "cell_type": "markdown",
   "id": "2b87cca1-2334-4228-ba39-b7a1751e14e3",
   "metadata": {},
   "source": [
    "A `pandas.Serie`s has an **attribute** called `hasnans` that returns `True` if there are any NaNs:"
   ]
  },
  {
   "cell_type": "code",
   "execution_count": 24,
   "id": "4cf39168-56ad-4f16-9098-fc7837e01932",
   "metadata": {
    "tags": []
   },
   "outputs": [
    {
     "data": {
      "text/plain": [
       "True"
      ]
     },
     "execution_count": 24,
     "metadata": {},
     "output_type": "execute_result"
    }
   ],
   "source": [
    "# check if series has NAs\n",
    "s.hasnans"
   ]
  },
  {
   "cell_type": "markdown",
   "id": "14c77866-2281-48e4-858c-2045c8862d26",
   "metadata": {},
   "source": [
    "Then we might be intersted in knowing which elements in the series are NAs. \n",
    "\n",
    "We can do this using the isna method:\n",
    "- indicates which elements are NAs"
   ]
  },
  {
   "cell_type": "code",
   "execution_count": 25,
   "id": "1848524a-c985-4084-839e-946e054ab7b3",
   "metadata": {
    "tags": []
   },
   "outputs": [
    {
     "data": {
      "text/plain": [
       "0    False\n",
       "1    False\n",
       "2     True\n",
       "3    False\n",
       "4     True\n",
       "dtype: bool"
      ]
     },
     "execution_count": 25,
     "metadata": {},
     "output_type": "execute_result"
    }
   ],
   "source": [
    "s.isna()"
   ]
  },
  {
   "cell_type": "code",
   "execution_count": 27,
   "id": "31d3a04f-4526-44ce-a301-15a0c5240c91",
   "metadata": {
    "tags": []
   },
   "outputs": [
    {
     "data": {
      "text/plain": [
       "method"
      ]
     },
     "execution_count": 27,
     "metadata": {},
     "output_type": "execute_result"
    }
   ],
   "source": [
    "type(s.isna)"
   ]
  },
  {
   "cell_type": "code",
   "execution_count": 28,
   "id": "e34afb18-2eb2-4ace-838a-adb46f1b8c04",
   "metadata": {
    "tags": []
   },
   "outputs": [
    {
     "data": {
      "text/plain": [
       "pandas.core.series.Series"
      ]
     },
     "execution_count": 28,
     "metadata": {},
     "output_type": "execute_result"
    }
   ],
   "source": [
    "type(s.isna())"
   ]
  },
  {
   "cell_type": "markdown",
   "id": "4691c1d3-371b-4295-ac5a-ad10304b75ad",
   "metadata": {},
   "source": [
    "We can see the ouput is a `pd.Series` of **boolean values** indicating if an element in the row at the given index is NA \n",
    "\n",
    "(`True` = is NA) or not (`False` = not NA)."
   ]
  },
  {
   "cell_type": "markdown",
   "id": "40c38caa-16d7-4289-813d-82441762a602",
   "metadata": {},
   "source": [
    "## Data Frames\n",
    "\n",
    "\n",
    "`pandas.DataFrame`\n",
    "\n",
    "The Data Frame is the \n",
    "- most used pandas object. \n",
    "- represents tabular data and we can think of it as a spreadhseet\n",
    "- Each column of a `pandas.DataFrame` is a `pandas.Series`\n",
    "\n",
    "\n",
    "### Creating a `pandas.DataFrame`\n",
    "\n",
    "There are many ways of creating a pandas.DataFrame. https://pandas.pydata.org/docs/user_guide/dsintro.html#dataframe\n",
    "\n",
    "\n",
    "We already mentioned each column of a `pandas.DataFrame` is a pandas.Series. In fact, the `pandas.DataFrame` is a dictionary of `pandas.Series`, with each column name being the key and the column values being the key’s value. Thus, we can create a `pandas.DataFrame` in this way:\n"
   ]
  },
  {
   "cell_type": "markdown",
   "id": "be714f16-6771-4ef8-b892-15b7faaf13a8",
   "metadata": {},
   "source": [
    "one way to create: Dictionaries!\n",
    "\n",
    "```\n",
    "{ key1 : value1.\n",
    "  key2: value2\n",
    "}\n",
    "  \n",
    "```\n",
    "`pd.DataFrame` like a dictionary where:\n",
    "- keys = column names\n",
    "- values = column values"
   ]
  },
  {
   "cell_type": "code",
   "execution_count": 30,
   "id": "74ebbfdd-6e98-42ec-b19e-b09c24533ba1",
   "metadata": {
    "tags": []
   },
   "outputs": [],
   "source": [
    "# initialize dictionary with columns' data \n",
    "d = {'col_name_1' : pd.Series(np.arange(3)),\n",
    "     'col_name_2' : pd.Series([3.1, 3.2, 3.3]),\n",
    "     }"
   ]
  },
  {
   "cell_type": "code",
   "execution_count": 31,
   "id": "0bc73a06-f7bd-4daf-a023-372f64c9e348",
   "metadata": {
    "tags": []
   },
   "outputs": [
    {
     "data": {
      "text/html": [
       "<div>\n",
       "<style scoped>\n",
       "    .dataframe tbody tr th:only-of-type {\n",
       "        vertical-align: middle;\n",
       "    }\n",
       "\n",
       "    .dataframe tbody tr th {\n",
       "        vertical-align: top;\n",
       "    }\n",
       "\n",
       "    .dataframe thead th {\n",
       "        text-align: right;\n",
       "    }\n",
       "</style>\n",
       "<table border=\"1\" class=\"dataframe\">\n",
       "  <thead>\n",
       "    <tr style=\"text-align: right;\">\n",
       "      <th></th>\n",
       "      <th>col_name_1</th>\n",
       "      <th>col_name_2</th>\n",
       "    </tr>\n",
       "  </thead>\n",
       "  <tbody>\n",
       "    <tr>\n",
       "      <th>0</th>\n",
       "      <td>0</td>\n",
       "      <td>3.1</td>\n",
       "    </tr>\n",
       "    <tr>\n",
       "      <th>1</th>\n",
       "      <td>1</td>\n",
       "      <td>3.2</td>\n",
       "    </tr>\n",
       "    <tr>\n",
       "      <th>2</th>\n",
       "      <td>2</td>\n",
       "      <td>3.3</td>\n",
       "    </tr>\n",
       "  </tbody>\n",
       "</table>\n",
       "</div>"
      ],
      "text/plain": [
       "   col_name_1  col_name_2\n",
       "0           0         3.1\n",
       "1           1         3.2\n",
       "2           2         3.3"
      ]
     },
     "execution_count": 31,
     "metadata": {},
     "output_type": "execute_result"
    }
   ],
   "source": [
    "# create data frame\n",
    "df = pd.DataFrame(d)\n",
    "df"
   ]
  },
  {
   "cell_type": "markdown",
   "id": "73499b4d-339c-4ea5-9da6-af7a14bd4a13",
   "metadata": {},
   "source": [
    "We can change the index and column names by changing the `index` and `columns` attributes in the data frame."
   ]
  },
  {
   "cell_type": "code",
   "execution_count": 32,
   "id": "ae5441ec-ce05-4971-8157-bf3a95836895",
   "metadata": {
    "tags": []
   },
   "outputs": [
    {
     "name": "stdout",
     "output_type": "stream",
     "text": [
      "RangeIndex(start=0, stop=3, step=1)\n"
     ]
    },
    {
     "data": {
      "text/html": [
       "<div>\n",
       "<style scoped>\n",
       "    .dataframe tbody tr th:only-of-type {\n",
       "        vertical-align: middle;\n",
       "    }\n",
       "\n",
       "    .dataframe tbody tr th {\n",
       "        vertical-align: top;\n",
       "    }\n",
       "\n",
       "    .dataframe thead th {\n",
       "        text-align: right;\n",
       "    }\n",
       "</style>\n",
       "<table border=\"1\" class=\"dataframe\">\n",
       "  <thead>\n",
       "    <tr style=\"text-align: right;\">\n",
       "      <th></th>\n",
       "      <th>col_name_1</th>\n",
       "      <th>col_name_2</th>\n",
       "    </tr>\n",
       "  </thead>\n",
       "  <tbody>\n",
       "    <tr>\n",
       "      <th>a</th>\n",
       "      <td>0</td>\n",
       "      <td>3.1</td>\n",
       "    </tr>\n",
       "    <tr>\n",
       "      <th>b</th>\n",
       "      <td>1</td>\n",
       "      <td>3.2</td>\n",
       "    </tr>\n",
       "    <tr>\n",
       "      <th>c</th>\n",
       "      <td>2</td>\n",
       "      <td>3.3</td>\n",
       "    </tr>\n",
       "  </tbody>\n",
       "</table>\n",
       "</div>"
      ],
      "text/plain": [
       "   col_name_1  col_name_2\n",
       "a           0         3.1\n",
       "b           1         3.2\n",
       "c           2         3.3"
      ]
     },
     "execution_count": 32,
     "metadata": {},
     "output_type": "execute_result"
    }
   ],
   "source": [
    "# print original index\n",
    "print(df.index)\n",
    "\n",
    "# change the index\n",
    "df.index = ['a','b','c']\n",
    "df"
   ]
  },
  {
   "cell_type": "markdown",
   "id": "e025becf-8191-4aa9-b141-0cb48bf083d0",
   "metadata": {},
   "source": [
    "## In-place operations\n",
    "\n",
    "\n",
    "- let's rename the df's columns\n",
    "- *method* `rename`\n",
    "\n",
    "`rename` takes in a dictionary as an input \n",
    "\n",
    "```\n",
    "{ 'col_1_old_name' : 'col_1_new_name',\n",
    "    'col_2_old_name' : 'col_2_new_name'}\n",
    "\n",
    "```"
   ]
  },
  {
   "cell_type": "code",
   "execution_count": 33,
   "id": "27d2577b-184f-4914-aa0b-ecef6c1d6804",
   "metadata": {
    "tags": []
   },
   "outputs": [
    {
     "data": {
      "text/html": [
       "<div>\n",
       "<style scoped>\n",
       "    .dataframe tbody tr th:only-of-type {\n",
       "        vertical-align: middle;\n",
       "    }\n",
       "\n",
       "    .dataframe tbody tr th {\n",
       "        vertical-align: top;\n",
       "    }\n",
       "\n",
       "    .dataframe thead th {\n",
       "        text-align: right;\n",
       "    }\n",
       "</style>\n",
       "<table border=\"1\" class=\"dataframe\">\n",
       "  <thead>\n",
       "    <tr style=\"text-align: right;\">\n",
       "      <th></th>\n",
       "      <th>col1</th>\n",
       "      <th>col2</th>\n",
       "    </tr>\n",
       "  </thead>\n",
       "  <tbody>\n",
       "    <tr>\n",
       "      <th>a</th>\n",
       "      <td>0</td>\n",
       "      <td>3.1</td>\n",
       "    </tr>\n",
       "    <tr>\n",
       "      <th>b</th>\n",
       "      <td>1</td>\n",
       "      <td>3.2</td>\n",
       "    </tr>\n",
       "    <tr>\n",
       "      <th>c</th>\n",
       "      <td>2</td>\n",
       "      <td>3.3</td>\n",
       "    </tr>\n",
       "  </tbody>\n",
       "</table>\n",
       "</div>"
      ],
      "text/plain": [
       "   col1  col2\n",
       "a     0   3.1\n",
       "b     1   3.2\n",
       "c     2   3.3"
      ]
     },
     "execution_count": 33,
     "metadata": {},
     "output_type": "execute_result"
    }
   ],
   "source": [
    "#define new column names\n",
    "\n",
    "col_names = { 'col_name_1' : 'col1',\n",
    "               'col_name_2': 'col2'\n",
    "            }\n",
    "\n",
    "# rename using rename\n",
    "\n",
    "df.rename(columns = col_names)"
   ]
  },
  {
   "cell_type": "code",
   "execution_count": 35,
   "id": "1818b9e1-e318-4816-b6f7-6cd4748e07a0",
   "metadata": {
    "tags": []
   },
   "outputs": [
    {
     "data": {
      "text/html": [
       "<div>\n",
       "<style scoped>\n",
       "    .dataframe tbody tr th:only-of-type {\n",
       "        vertical-align: middle;\n",
       "    }\n",
       "\n",
       "    .dataframe tbody tr th {\n",
       "        vertical-align: top;\n",
       "    }\n",
       "\n",
       "    .dataframe thead th {\n",
       "        text-align: right;\n",
       "    }\n",
       "</style>\n",
       "<table border=\"1\" class=\"dataframe\">\n",
       "  <thead>\n",
       "    <tr style=\"text-align: right;\">\n",
       "      <th></th>\n",
       "      <th>col_name_1</th>\n",
       "      <th>col_name_2</th>\n",
       "    </tr>\n",
       "  </thead>\n",
       "  <tbody>\n",
       "    <tr>\n",
       "      <th>a</th>\n",
       "      <td>0</td>\n",
       "      <td>3.1</td>\n",
       "    </tr>\n",
       "    <tr>\n",
       "      <th>b</th>\n",
       "      <td>1</td>\n",
       "      <td>3.2</td>\n",
       "    </tr>\n",
       "    <tr>\n",
       "      <th>c</th>\n",
       "      <td>2</td>\n",
       "      <td>3.3</td>\n",
       "    </tr>\n",
       "  </tbody>\n",
       "</table>\n",
       "</div>"
      ],
      "text/plain": [
       "   col_name_1  col_name_2\n",
       "a           0         3.1\n",
       "b           1         3.2\n",
       "c           2         3.3"
      ]
     },
     "execution_count": 35,
     "metadata": {},
     "output_type": "execute_result"
    }
   ],
   "source": [
    "# note: nothing happened to our original dataframe\n",
    "df"
   ]
  },
  {
   "cell_type": "markdown",
   "id": "75ff01b6-325b-4380-aa41-1a77c6869c69",
   "metadata": {},
   "source": [
    "Nothing changed:\n",
    "- `df.rename()` doesn't change the column names *in place*, meaning it doesn't modify the object itself. Instead, it created a new object as an output.\n",
    "\n",
    "Assign output back to dataframe to actually change it:"
   ]
  },
  {
   "cell_type": "code",
   "execution_count": 36,
   "id": "f706dd20-2d8c-48c4-a70d-a0f7c4c275ff",
   "metadata": {
    "tags": []
   },
   "outputs": [],
   "source": [
    "df = df.rename(columns = col_names)"
   ]
  },
  {
   "cell_type": "code",
   "execution_count": 37,
   "id": "f7079f5d-d752-45a6-8ba6-007ac637e95e",
   "metadata": {
    "tags": []
   },
   "outputs": [
    {
     "data": {
      "text/html": [
       "<div>\n",
       "<style scoped>\n",
       "    .dataframe tbody tr th:only-of-type {\n",
       "        vertical-align: middle;\n",
       "    }\n",
       "\n",
       "    .dataframe tbody tr th {\n",
       "        vertical-align: top;\n",
       "    }\n",
       "\n",
       "    .dataframe thead th {\n",
       "        text-align: right;\n",
       "    }\n",
       "</style>\n",
       "<table border=\"1\" class=\"dataframe\">\n",
       "  <thead>\n",
       "    <tr style=\"text-align: right;\">\n",
       "      <th></th>\n",
       "      <th>col1</th>\n",
       "      <th>col2</th>\n",
       "    </tr>\n",
       "  </thead>\n",
       "  <tbody>\n",
       "    <tr>\n",
       "      <th>a</th>\n",
       "      <td>0</td>\n",
       "      <td>3.1</td>\n",
       "    </tr>\n",
       "    <tr>\n",
       "      <th>b</th>\n",
       "      <td>1</td>\n",
       "      <td>3.2</td>\n",
       "    </tr>\n",
       "    <tr>\n",
       "      <th>c</th>\n",
       "      <td>2</td>\n",
       "      <td>3.3</td>\n",
       "    </tr>\n",
       "  </tbody>\n",
       "</table>\n",
       "</div>"
      ],
      "text/plain": [
       "   col1  col2\n",
       "a     0   3.1\n",
       "b     1   3.2\n",
       "c     2   3.3"
      ]
     },
     "execution_count": 37,
     "metadata": {},
     "output_type": "execute_result"
    }
   ],
   "source": [
    "df"
   ]
  },
  {
   "cell_type": "markdown",
   "id": "97a807e0-75bd-403a-afd3-e6ca49b4a403",
   "metadata": {},
   "source": [
    "- most methods generally don't assign in-place"
   ]
  },
  {
   "cell_type": "code",
   "execution_count": 40,
   "id": "2f479676-b12b-4c84-ae42-318669c230aa",
   "metadata": {
    "tags": []
   },
   "outputs": [
    {
     "data": {
      "text/html": [
       "<div>\n",
       "<style scoped>\n",
       "    .dataframe tbody tr th:only-of-type {\n",
       "        vertical-align: middle;\n",
       "    }\n",
       "\n",
       "    .dataframe tbody tr th {\n",
       "        vertical-align: top;\n",
       "    }\n",
       "\n",
       "    .dataframe thead th {\n",
       "        text-align: right;\n",
       "    }\n",
       "</style>\n",
       "<table border=\"1\" class=\"dataframe\">\n",
       "  <thead>\n",
       "    <tr style=\"text-align: right;\">\n",
       "      <th></th>\n",
       "      <th>col1</th>\n",
       "      <th>col2</th>\n",
       "    </tr>\n",
       "  </thead>\n",
       "  <tbody>\n",
       "    <tr>\n",
       "      <th>a</th>\n",
       "      <td>0</td>\n",
       "      <td>3.1</td>\n",
       "    </tr>\n",
       "    <tr>\n",
       "      <th>b</th>\n",
       "      <td>1</td>\n",
       "      <td>3.2</td>\n",
       "    </tr>\n",
       "    <tr>\n",
       "      <th>c</th>\n",
       "      <td>2</td>\n",
       "      <td>3.3</td>\n",
       "    </tr>\n",
       "  </tbody>\n",
       "</table>\n",
       "</div>"
      ],
      "text/plain": [
       "   col1  col2\n",
       "a     0   3.1\n",
       "b     1   3.2\n",
       "c     2   3.3"
      ]
     },
     "execution_count": 40,
     "metadata": {},
     "output_type": "execute_result"
    }
   ],
   "source": [
    "# use in-place parameter\n",
    "\n",
    "df.rename(columns = col_names, inplace = True)\n",
    "df\n",
    "\n",
    "# note: not reccomended because you want to preserve your original data. \n",
    "# Generally best practice to make a copy and store this as a new df"
   ]
  }
 ],
 "metadata": {
  "kernelspec": {
   "display_name": "Anaconda 3 (Base)",
   "language": "python",
   "name": "base"
  },
  "language_info": {
   "codemirror_mode": {
    "name": "ipython",
    "version": 3
   },
   "file_extension": ".py",
   "mimetype": "text/x-python",
   "name": "python",
   "nbconvert_exporter": "python",
   "pygments_lexer": "ipython3",
   "version": "3.9.13"
  }
 },
 "nbformat": 4,
 "nbformat_minor": 5
}
